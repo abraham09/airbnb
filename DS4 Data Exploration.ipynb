{
 "cells": [
  {
   "cell_type": "markdown",
   "metadata": {},
   "source": [
    "## Data Sources \n",
    "\n",
    "Date | Compiled\tCity |\tFile Name |\tDescription |\n",
    "---- | ------------- | ---------- | ----------- |\n",
    "04 January, 2016 |\tSeattle\t| listings2.csv |\tDetailed Listings data for Seattle\n",
    "04 January, 2016 |\tSeattle |\tcalendar.csv |\tDetailed Calendar Data for listings in Seattle\n",
    "04 January, 2016 |\tSeattle |\treviews2.csv |\tDetailed Review Data for listings in Seattle\n",
    "04 January, 2016 |\tSeattle |\tlistings.csv |\tSummary information and metrics for listings in Seattle (good for visualisations).\n",
    "04 January, 2016 |\tSeattle |\treviews.csv |\tSummary Review data and Listing ID (to facilitate time based analytics and visualisations linked to a listing).\n",
    "N/A |\tSeattle |\tneighbourhoods.csv |\tNeighbourhood list for geo filter. Sourced from city or open source GIS files.\n",
    "N/A |\tSeattle |\tneighbourhoods.geojson |\tGeoJSON file of neighbourhoods of the city."
   ]
  },
  {
   "cell_type": "code",
   "execution_count": null,
   "metadata": {
    "collapsed": true
   },
   "outputs": [],
   "source": []
  }
 ],
 "metadata": {
  "anaconda-cloud": {},
  "kernelspec": {
   "display_name": "Python [Root]",
   "language": "python",
   "name": "Python [Root]"
  },
  "language_info": {
   "codemirror_mode": {
    "name": "ipython",
    "version": 2
   },
   "file_extension": ".py",
   "mimetype": "text/x-python",
   "name": "python",
   "nbconvert_exporter": "python",
   "pygments_lexer": "ipython2",
   "version": "2.7.12"
  }
 },
 "nbformat": 4,
 "nbformat_minor": 0
}
